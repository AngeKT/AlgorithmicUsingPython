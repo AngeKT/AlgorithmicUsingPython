{
 "cells": [
  {
   "cell_type": "markdown",
   "metadata": {},
   "source": [
    "# Assessment test "
   ]
  },
  {
   "cell_type": "markdown",
   "metadata": {},
   "source": [
    "## Exercise 1: \n",
    "\n",
    "What is a correct syntax to output \"Hello World\" in Python?\n",
    "\n",
    "1. print(\"Hello World\")\n",
    "2. echo(\"Hello World\")\n",
    "3. p(\"Hello World\")\n",
    "4. printf(\"Hello World\")\n",
    "\n",
    "**You answer here**\n",
    "1. print(\"Hello World\")"
   ]
  },
  {
   "cell_type": "markdown",
   "metadata": {},
   "source": [
    "## Exercise 2:\n",
    "\n",
    "Which one is NOT a legal variable name?\n",
    "\n",
    "1. Myvar\n",
    "2. _myvar\n",
    "3. my-var\n",
    "4. my_var\n",
    "\n",
    "**Your answer here**\n",
    "3. my-var"
   ]
  },
  {
   "cell_type": "markdown",
   "metadata": {},
   "source": [
    "## Exercise 3: range()\n",
    "\n",
    "Use range() to print all the even numbers from 0 to 10."
   ]
  },
  {
   "cell_type": "code",
   "execution_count": 1,
   "metadata": {},
   "outputs": [
    {
     "name": "stdout",
     "output_type": "stream",
     "text": [
      "0\n",
      "2\n",
      "4\n",
      "6\n",
      "8\n",
      "10\n"
     ]
    }
   ],
   "source": [
    "for i in range(11):\n",
    "    if i%2==0:\n",
    "        print(i)"
   ]
  },
  {
   "cell_type": "markdown",
   "metadata": {},
   "source": [
    "## Exercise 4: list\n",
    "\n",
    "\n",
    "```python\n",
    ">>> arr = [\"Car\", \"Fruit\", 1]\n",
    "```\n",
    "\n",
    "1. Add element at the top of the list `arr`\n",
    "2. Add element at the end of the list `arr`\n",
    "3. remove element \"Car\" from the list"
   ]
  },
  {
   "cell_type": "code",
   "execution_count": 2,
   "metadata": {},
   "outputs": [],
   "source": [
    "arr = [\"Car\", \"Fruit\", 1]\n",
    "arr.insert(0, 'Rocket')\n",
    "arr.append('Basket')\n",
    "del arr[1]"
   ]
  },
  {
   "cell_type": "markdown",
   "metadata": {},
   "source": [
    "## Exercise 5: slicing\n",
    "\n",
    "```python\n",
    ">>> arr = [0, 1, 2, 3, 4, 5, 6, 7, 8, 9, 10, 11, 12, 13, 14, 15, 16, 17, 18, 19]\n",
    "```\n",
    "1. Print the first 10 elements\n",
    "2. Print the last 10 elements \n",
    "3. Print the elements between indices 3 and 7\n",
    "4. Print the elements at odd positions"
   ]
  },
  {
   "cell_type": "code",
   "execution_count": 3,
   "metadata": {},
   "outputs": [
    {
     "name": "stdout",
     "output_type": "stream",
     "text": [
      "The first 10 elements are: [0, 1, 2, 3, 4, 5, 6, 7, 8, 9]\n",
      "\n",
      "The last 10 elements are: [10, 11, 12, 13, 14, 15, 16, 17, 18, 19]\n",
      "\n",
      "The elements between indices 3 and 7 are: [4, 5, 6]\n",
      "\n",
      "The elements at odd positions are: [1, 3, 5, 7, 9, 11, 13, 15, 17, 19]\n"
     ]
    }
   ],
   "source": [
    "arr = [0, 1, 2, 3, 4, 5, 6, 7, 8, 9, 10, 11, 12, 13, 14, 15, 16, 17, 18, 19]\n",
    "print(\"The first 10 elements are:\", arr[:10])\n",
    "print(\"\\nThe last 10 elements are:\", arr[10:20])\n",
    "print(\"\\nThe elements between indices 3 and 7 are:\", arr[4:7])\n",
    "\n",
    "odd_arr=[]\n",
    "for i in range(len(arr)):\n",
    "    if i%2==1:\n",
    "        odd_arr.append(arr[i])\n",
    "print(\"\\nThe elements at odd positions are:\", odd_arr)"
   ]
  },
  {
   "cell_type": "markdown",
   "metadata": {},
   "source": [
    "## Exercise 6: List comprehension\n",
    "\n",
    "Use List comprehension to create a list of all numbers between 1 and 50 that are divisible by 3."
   ]
  },
  {
   "cell_type": "code",
   "execution_count": 4,
   "metadata": {},
   "outputs": [
    {
     "name": "stdout",
     "output_type": "stream",
     "text": [
      "[3, 6, 9, 12, 15, 18, 21, 24, 27, 30, 33, 36, 39, 42, 45, 48]\n"
     ]
    }
   ],
   "source": [
    "list=[i for i in range(1,51) if i%3==0]\n",
    "print(list)"
   ]
  },
  {
   "cell_type": "markdown",
   "metadata": {},
   "source": [
    "## Exercise 7: string\n",
    "\n",
    "Go through the string below and if the length of a word is even print \"even!\"\n",
    "```python\n",
    ">>> st = 'Print every word in this sentence that has an even number of letters'\n",
    "```"
   ]
  },
  {
   "cell_type": "code",
   "execution_count": 5,
   "metadata": {},
   "outputs": [
    {
     "name": "stdout",
     "output_type": "stream",
     "text": [
      "word\n",
      "in\n",
      "this\n",
      "sentence\n",
      "that\n",
      "an\n",
      "even\n",
      "number\n",
      "of\n"
     ]
    }
   ],
   "source": [
    "st = 'Print every word in this sentence that has an even number of letters'\n",
    "words=st.split()\n",
    "for i in range(len(words)):\n",
    "    if len(words[i])%2==0:\n",
    "        print(words[i])"
   ]
  },
  {
   "cell_type": "markdown",
   "metadata": {},
   "source": [
    "## Exercise 8: string\n",
    "\n",
    "Write a program that prints the integers from 1 to 100. But for multiples of three print \"Fizz\" instead of the number, and for the multiples of five print \"Buzz\". For numbers which are multiples of both three and five print \"FizzBuzz\"."
   ]
  },
  {
   "cell_type": "code",
   "execution_count": 1,
   "metadata": {},
   "outputs": [
    {
     "name": "stdout",
     "output_type": "stream",
     "text": [
      "1\n",
      "2\n",
      "Fizz\n",
      "4\n",
      "Buzz\n",
      "Fizz\n",
      "7\n",
      "8\n",
      "Fizz\n",
      "Buzz\n",
      "11\n",
      "Fizz\n",
      "13\n",
      "14\n",
      "FizzBuzz\n",
      "16\n",
      "17\n",
      "Fizz\n",
      "19\n",
      "Buzz\n",
      "Fizz\n",
      "22\n",
      "23\n",
      "Fizz\n",
      "Buzz\n",
      "26\n",
      "Fizz\n",
      "28\n",
      "29\n",
      "FizzBuzz\n",
      "31\n",
      "32\n",
      "Fizz\n",
      "34\n",
      "Buzz\n",
      "Fizz\n",
      "37\n",
      "38\n",
      "Fizz\n",
      "Buzz\n",
      "41\n",
      "Fizz\n",
      "43\n",
      "44\n",
      "FizzBuzz\n",
      "46\n",
      "47\n",
      "Fizz\n",
      "49\n",
      "Buzz\n",
      "Fizz\n",
      "52\n",
      "53\n",
      "Fizz\n",
      "Buzz\n",
      "56\n",
      "Fizz\n",
      "58\n",
      "59\n",
      "FizzBuzz\n",
      "61\n",
      "62\n",
      "Fizz\n",
      "64\n",
      "Buzz\n",
      "Fizz\n",
      "67\n",
      "68\n",
      "Fizz\n",
      "Buzz\n",
      "71\n",
      "Fizz\n",
      "73\n",
      "74\n",
      "FizzBuzz\n",
      "76\n",
      "77\n",
      "Fizz\n",
      "79\n",
      "Buzz\n",
      "Fizz\n",
      "82\n",
      "83\n",
      "Fizz\n",
      "Buzz\n",
      "86\n",
      "Fizz\n",
      "88\n",
      "89\n",
      "FizzBuzz\n",
      "91\n",
      "92\n",
      "Fizz\n",
      "94\n",
      "Buzz\n",
      "Fizz\n",
      "97\n",
      "98\n",
      "Fizz\n",
      "Buzz\n"
     ]
    }
   ],
   "source": [
    "for i in range(1,101):\n",
    "    if (i%3==0) and (i%5==0):\n",
    "        print( \"FizzBuzz\")\n",
    "         \n",
    "    elif i%3==0:\n",
    "        print('Fizz')\n",
    "    elif i%5==0:\n",
    "        print('Buzz')\n",
    "    else:\n",
    "        print(i)\n"
   ]
  },
  {
   "cell_type": "markdown",
   "metadata": {},
   "source": [
    "## Exercise 9: conditions\n",
    "\n",
    "1. Compute the odd number squares sum of `arr`\n",
    "\n",
    "```python\n",
    ">>> arr = [0, 1, 2, 3, 4, 5, 6, 7, 8, 9, 10, 11, 12, 13, 14, 15, 16, 17, 18, 19]\n",
    "```\n",
    "\n",
    "2. Compute the solution of $ax^2 + bx + c = 0$\n",
    "    - a, b, and c are given by the user"
   ]
  },
  {
   "cell_type": "code",
   "execution_count": 7,
   "metadata": {},
   "outputs": [
    {
     "name": "stdout",
     "output_type": "stream",
     "text": [
      "The odd number squares sum of arr is: 1330\n",
      "2\n",
      "3\n",
      "5\n",
      "L'equation 2x2+3x+5 n'admet pas de solution.\n"
     ]
    }
   ],
   "source": [
    "arr = [0, 1, 2, 3, 4, 5, 6, 7, 8, 9, 10, 11, 12, 13, 14, 15, 16, 17, 18, 19]\n",
    "sum=0\n",
    "for i in arr:\n",
    "    if i%2==1:\n",
    "        sum+=i*i\n",
    "print(\"The odd number squares sum of arr is:\",sum)\n",
    "\n",
    "def solution(a,b,c):\n",
    "    delta=b*b-4*a*c\n",
    "    if delta<0:\n",
    "        print(\"L'equation {}x2+{}x+{} n'admet pas de solution.\".format(a,b,c))\n",
    "    elif delta==0:\n",
    "        x0=-b/2*a\n",
    "        print(\"L'equation {}x2+{}x+{} admet une solution double x0={}\".format(a,b,c,x0))\n",
    "    else:\n",
    "        from math import sqrt\n",
    "        x1=(-b-sqrt(delta))/2*a\n",
    "        x2=(-b+sqrt(delta))/2*a\n",
    "        print(\"L'equation {}x2+{}x+{} admet deux solutions: x1={} et x2={}\".format(a,b,c,x1,x2))\n",
    "\n",
    "a=int(input())\n",
    "b=int(input())\n",
    "c=int(input())\n",
    "solution(a,b,c)\n",
    "        "
   ]
  },
  {
   "cell_type": "markdown",
   "metadata": {},
   "source": [
    "## Exercise 10: Numpy\n",
    "\n",
    "1. Define 2 matrices using numpy\n",
    "\n",
    "![matrix](../data/matrix.png)\n",
    "\n",
    "2. Compute the multiplication of the 2 matrices\n",
    "\n",
    "3. Print the result"
   ]
  },
  {
   "cell_type": "code",
   "execution_count": 37,
   "metadata": {},
   "outputs": [
    {
     "name": "stdout",
     "output_type": "stream",
     "text": [
      "[[30 66]\n",
      " [36 81]]\n"
     ]
    }
   ],
   "source": [
    "import numpy as np\n",
    "A=np.array([[1, 4, 7], \n",
    "            [2, 5, 8]])\n",
    "B=np.array([[1, 4], \n",
    "            [2, 5], \n",
    "            [3, 6]])\n",
    "Times=np.array([[0, 0],\n",
    "                [0, 0]])\n",
    " \n",
    "for i in range(len(A)):\n",
    "    for j in range(len(B[1])):\n",
    "        for k in range(len(B)):\n",
    "            Times[i][j]+=A[i][k]*B[k][j]\n",
    "    \n",
    "print(Times)\n",
    "\n"
   ]
  },
  {
   "cell_type": "markdown",
   "metadata": {},
   "source": [
    "## Exercise 11: functions\n",
    "\n",
    "1. Write function that compute the max of 2 given numbers\n",
    "2. Call the function with 2 numbers of your choice"
   ]
  },
  {
   "cell_type": "code",
   "execution_count": 42,
   "metadata": {},
   "outputs": [
    {
     "name": "stdout",
     "output_type": "stream",
     "text": [
      "The max of -2 and 4 is 4\n"
     ]
    }
   ],
   "source": [
    "import numpy as np\n",
    "\n",
    "def max(a,b):\n",
    "    l=np.array([a, b])\n",
    "    np.sort(l)\n",
    "    print(\"The max of {} and {} is\".format(a, b), l[-1])\n",
    "    \n",
    "max(-2, 4)"
   ]
  },
  {
   "cell_type": "markdown",
   "metadata": {},
   "source": [
    "## Exercise 12: Matplotlib\n",
    " \n",
    "1. Write a Python program that will create the plot bellow\n",
    "![plot](../data/matplotlib.png)"
   ]
  },
  {
   "cell_type": "code",
   "execution_count": 10,
   "metadata": {},
   "outputs": [
    {
     "data": {
      "image/png": "[encoded data removed]",
      "text/plain": [
       "<Figure size 640x480 with 1 Axes>"
      ]
     },
     "metadata": {},
     "output_type": "display_data"
    }
   ],
   "source": [
    "import matplotlib.pyplot as plt\n",
    "import numpy as np\n",
    "\n",
    "x = np.linspace(-3, 3, 100)\n",
    "y = np.sin(x)\n",
    "\n",
    "plt.plot(x, y, label='Sinusoid')\n",
    "plt.xlabel('x')\n",
    "plt.ylabel('sin(x)')\n",
    "plt.title('Matplotlib example')\n",
    "plt.legend(loc='upper left')\n",
    "plt.show()"
   ]
  },
  {
   "cell_type": "markdown",
   "metadata": {},
   "source": [
    "## Exercise 13: pandas\n",
    "\n",
    "1. Use pandas library to read the csv file 'data.csv' (located at data repository)\n",
    "2. Print the first 10 rows for the file\n",
    "3. Print the values of 'diagnosis' column"
   ]
  },
  {
   "cell_type": "code",
   "execution_count": 8,
   "metadata": {
    "scrolled": true
   },
   "outputs": [
    {
     "name": "stdout",
     "output_type": "stream",
     "text": [
      "         id diagnosis  radius_mean  texture_mean  perimeter_mean  area_mean  \\\n",
      "0    842302         M        17.99         10.38          122.80     1001.0   \n",
      "1    842517         M        20.57         17.77          132.90     1326.0   \n",
      "2  84300903         M        19.69         21.25          130.00     1203.0   \n",
      "3  84348301         M        11.42         20.38           77.58      386.1   \n",
      "4  84358402         M        20.29         14.34          135.10     1297.0   \n",
      "5    843786         M        12.45         15.70           82.57      477.1   \n",
      "6    844359         M        18.25         19.98          119.60     1040.0   \n",
      "7  84458202         M        13.71         20.83           90.20      577.9   \n",
      "8    844981         M        13.00         21.82           87.50      519.8   \n",
      "9  84501001         M        12.46         24.04           83.97      475.9   \n",
      "\n",
      "   smoothness_mean  compactness_mean  concavity_mean  concave points_mean  \\\n",
      "0          0.11840           0.27760         0.30010              0.14710   \n",
      "1          0.08474           0.07864         0.08690              0.07017   \n",
      "2          0.10960           0.15990         0.19740              0.12790   \n",
      "3          0.14250           0.28390         0.24140              0.10520   \n",
      "4          0.10030           0.13280         0.19800              0.10430   \n",
      "5          0.12780           0.17000         0.15780              0.08089   \n",
      "6          0.09463           0.10900         0.11270              0.07400   \n",
      "7          0.11890           0.16450         0.09366              0.05985   \n",
      "8          0.12730           0.19320         0.18590              0.09353   \n",
      "9          0.11860           0.23960         0.22730              0.08543   \n",
      "\n",
      "   ...  radius_worst  texture_worst  perimeter_worst  area_worst  \\\n",
      "0  ...         25.38          17.33           184.60      2019.0   \n",
      "1  ...         24.99          23.41           158.80      1956.0   \n",
      "2  ...         23.57          25.53           152.50      1709.0   \n",
      "3  ...         14.91          26.50            98.87       567.7   \n",
      "4  ...         22.54          16.67           152.20      1575.0   \n",
      "5  ...         15.47          23.75           103.40       741.6   \n",
      "6  ...         22.88          27.66           153.20      1606.0   \n",
      "7  ...         17.06          28.14           110.60       897.0   \n",
      "8  ...         15.49          30.73           106.20       739.3   \n",
      "9  ...         15.09          40.68            97.65       711.4   \n",
      "\n",
      "   smoothness_worst  compactness_worst  concavity_worst  concave points_worst  \\\n",
      "0            0.1622             0.6656           0.7119                0.2654   \n",
      "1            0.1238             0.1866           0.2416                0.1860   \n",
      "2            0.1444             0.4245           0.4504                0.2430   \n",
      "3            0.2098             0.8663           0.6869                0.2575   \n",
      "4            0.1374             0.2050           0.4000                0.1625   \n",
      "5            0.1791             0.5249           0.5355                0.1741   \n",
      "6            0.1442             0.2576           0.3784                0.1932   \n",
      "7            0.1654             0.3682           0.2678                0.1556   \n",
      "8            0.1703             0.5401           0.5390                0.2060   \n",
      "9            0.1853             1.0580           1.1050                0.2210   \n",
      "\n",
      "   symmetry_worst  fractal_dimension_worst  \n",
      "0          0.4601                  0.11890  \n",
      "1          0.2750                  0.08902  \n",
      "2          0.3613                  0.08758  \n",
      "3          0.6638                  0.17300  \n",
      "4          0.2364                  0.07678  \n",
      "5          0.3985                  0.12440  \n",
      "6          0.3063                  0.08368  \n",
      "7          0.3196                  0.11510  \n",
      "8          0.4378                  0.10720  \n",
      "9          0.4366                  0.20750  \n",
      "\n",
      "[10 rows x 32 columns]\n",
      "0      M\n",
      "1      M\n",
      "2      M\n",
      "3      M\n",
      "4      M\n",
      "      ..\n",
      "564    M\n",
      "565    M\n",
      "566    M\n",
      "567    M\n",
      "568    B\n",
      "Name: diagnosis, Length: 569, dtype: object\n"
     ]
    }
   ],
   "source": [
    "import pandas as pd\n",
    "data = pd.read_csv('/home/ange/AlgorithmicUsingPython/day01/data/data.csv')\n",
    "print(data.head(10))\n",
    "print(data['diagnosis'])"
   ]
  },
  {
   "cell_type": "code",
   "execution_count": null,
   "metadata": {},
   "outputs": [],
   "source": []
  }
 ],
 "metadata": {
  "hide_input": false,
  "kernelspec": {
   "display_name": "Python 3 (ipykernel)",
   "language": "python",
   "name": "python3"
  },
  "language_info": {
   "codemirror_mode": {
    "name": "ipython",
    "version": 3
   },
   "file_extension": ".py",
   "mimetype": "text/x-python",
   "name": "python",
   "nbconvert_exporter": "python",
   "pygments_lexer": "ipython3",
   "version": "3.10.6"
  }
 },
 "nbformat": 4,
 "nbformat_minor": 4
}
