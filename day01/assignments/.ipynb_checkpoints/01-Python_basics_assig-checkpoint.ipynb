{
 "cells": [
  {
   "cell_type": "markdown",
   "id": "59a72155",
   "metadata": {},
   "source": [
    "# Python Basic exercises"
   ]
  },
  {
   "cell_type": "markdown",
   "id": "e65834fc",
   "metadata": {},
   "source": [
    "## Exercice 1:\n",
    "\n",
    "Create a program that take a name from a user and print hello with the name of the user.\n",
    "\n",
    "Example:\n",
    "- input:\n",
    "\n",
    "```python\n",
    ">>> Hamid\n",
    "```\n",
    "- Desired output:\n",
    "\n",
    "```python\n",
    ">>> Hello Hamid\n",
    "```\n"
   ]
  },
  {
   "cell_type": "code",
   "execution_count": 1,
   "id": "332643d2",
   "metadata": {},
   "outputs": [
    {
     "name": "stdout",
     "output_type": "stream",
     "text": [
      "Enter your name Ange K. T.\n",
      "Hello Ange K. T.\n"
     ]
    }
   ],
   "source": [
    "name = input(\"Enter your name:\")\n",
    "print(\"Hello\", name)"
   ]
  },
  {
   "cell_type": "markdown",
   "id": "2c3fc0e9",
   "metadata": {},
   "source": [
    "## Exercise 2:\n",
    "\n",
    "Write a program that take a string from a user, and print the string with capitalize the vowels letters {a, o, u, i, e}.\n",
    "\n",
    "Example:\n",
    "- Input:\n",
    "\n",
    "```python\n",
    ">>> hello world\n",
    "```\n",
    "\n",
    "- Desired output:\n",
    "\n",
    "```python\n",
    ">>> hEllO wOrld\n",
    "```"
   ]
  },
  {
   "cell_type": "code",
   "execution_count": 21,
   "id": "532c27cb",
   "metadata": {},
   "outputs": [
    {
     "name": "stdout",
     "output_type": "stream",
     "text": [
      "Write something:hello world\n",
      "hEllO wOrld\n"
     ]
    }
   ],
   "source": [
    "string=input(\"Write something:\")\n",
    "vowels=['o','a','u','i','e']\n",
    "for i in vowels:\n",
    "    for l in string:\n",
    "        if i==l:\n",
    "            string=string.replace(l, l.capitalize())\n",
    "print(string)\n"
   ]
  },
  {
   "cell_type": "markdown",
   "id": "8c578ed6",
   "metadata": {},
   "source": [
    "## Exercise 3:\n",
    "\n",
    "Create a program that take a two numbers from a user and print their sum and multiplication.\n",
    "Example:\n",
    "\n",
    "- Input:\n",
    "```python\n",
    ">>> 3\n",
    ">>> 4\n",
    "```\n",
    "- Desired output:\n",
    "```python\n",
    ">>> multiplication of 3 and 4 is 12\n",
    ">>> sum of 3 and 4 is 7\n",
    "```\n"
   ]
  },
  {
   "cell_type": "code",
   "execution_count": 23,
   "id": "646b32bf",
   "metadata": {},
   "outputs": [
    {
     "name": "stdout",
     "output_type": "stream",
     "text": [
      "Enter the first number:5\n",
      "Enter the second number:4\n",
      "sum of 5 and 4 is 9\n",
      "multiplication of 5 and 4 is 20\n"
     ]
    }
   ],
   "source": [
    "a=int(input(\"Enter the first number:\"))\n",
    "b=int(input(\"Enter the second number:\"))\n",
    "print(\"sum of {} and {} is\".format(a,b), a+b)\n",
    "print(\"multiplication of {} and {} is\".format(a,b), a*b)"
   ]
  },
  {
   "cell_type": "markdown",
   "id": "05607e03",
   "metadata": {},
   "source": [
    "## Exercise 4: \n",
    "\n",
    "Display three string “Name”, “Is”, “James” as “Name**Is**James”\n",
    "\n",
    "Use the `print()` function to format the given words in the mentioned format. Display the ** separator between each string.\n",
    "\n",
    "- Desired Output:\n",
    "```python\n",
    ">>> print('Name', 'Is', 'James') will display Name**Is**James\n",
    "```"
   ]
  },
  {
   "cell_type": "code",
   "execution_count": 2,
   "id": "fd2b94b7",
   "metadata": {},
   "outputs": [
    {
     "name": "stdout",
     "output_type": "stream",
     "text": [
      "NameIsJames\n",
      "Name**Is**James\n"
     ]
    }
   ],
   "source": [
    "a='Name'\n",
    "b='Is'\n",
    "c='James'\n",
    "print(a+b+c)\n",
    "\n",
    "print('Name', 'Is', 'James', sep='**') "
   ]
  },
  {
   "cell_type": "code",
   "execution_count": 24,
   "id": "f802a900",
   "metadata": {},
   "outputs": [
    {
     "ename": "FileNotFoundError",
     "evalue": "[Errno 2] No such file or directory: '../../styles/custom.css'",
     "output_type": "error",
     "traceback": [
      "\u001b[0;31m---------------------------------------------------------------------------\u001b[0m",
      "\u001b[0;31mFileNotFoundError\u001b[0m                         Traceback (most recent call last)",
      "Cell \u001b[0;32mIn [24], line 6\u001b[0m\n\u001b[1;32m      4\u001b[0m     styles \u001b[38;5;241m=\u001b[39m \u001b[38;5;28mopen\u001b[39m(\u001b[38;5;124m\"\u001b[39m\u001b[38;5;124m../../styles/custom.css\u001b[39m\u001b[38;5;124m\"\u001b[39m, \u001b[38;5;124m\"\u001b[39m\u001b[38;5;124mr\u001b[39m\u001b[38;5;124m\"\u001b[39m)\u001b[38;5;241m.\u001b[39mread()\n\u001b[1;32m      5\u001b[0m     \u001b[38;5;28;01mreturn\u001b[39;00m HTML(styles)\n\u001b[0;32m----> 6\u001b[0m \u001b[43mcss_styling\u001b[49m\u001b[43m(\u001b[49m\u001b[43m)\u001b[49m\n",
      "Cell \u001b[0;32mIn [24], line 4\u001b[0m, in \u001b[0;36mcss_styling\u001b[0;34m()\u001b[0m\n\u001b[1;32m      3\u001b[0m \u001b[38;5;28;01mdef\u001b[39;00m \u001b[38;5;21mcss_styling\u001b[39m():\n\u001b[0;32m----> 4\u001b[0m     styles \u001b[38;5;241m=\u001b[39m \u001b[38;5;28;43mopen\u001b[39;49m\u001b[43m(\u001b[49m\u001b[38;5;124;43m\"\u001b[39;49m\u001b[38;5;124;43m../../styles/custom.css\u001b[39;49m\u001b[38;5;124;43m\"\u001b[39;49m\u001b[43m,\u001b[49m\u001b[43m \u001b[49m\u001b[38;5;124;43m\"\u001b[39;49m\u001b[38;5;124;43mr\u001b[39;49m\u001b[38;5;124;43m\"\u001b[39;49m\u001b[43m)\u001b[49m\u001b[38;5;241m.\u001b[39mread()\n\u001b[1;32m      5\u001b[0m     \u001b[38;5;28;01mreturn\u001b[39;00m HTML(styles)\n",
      "File \u001b[0;32m~/.local/lib/python3.10/site-packages/IPython/core/interactiveshell.py:282\u001b[0m, in \u001b[0;36m_modified_open\u001b[0;34m(file, *args, **kwargs)\u001b[0m\n\u001b[1;32m    275\u001b[0m \u001b[38;5;28;01mif\u001b[39;00m file \u001b[38;5;129;01min\u001b[39;00m {\u001b[38;5;241m0\u001b[39m, \u001b[38;5;241m1\u001b[39m, \u001b[38;5;241m2\u001b[39m}:\n\u001b[1;32m    276\u001b[0m     \u001b[38;5;28;01mraise\u001b[39;00m \u001b[38;5;167;01mValueError\u001b[39;00m(\n\u001b[1;32m    277\u001b[0m         \u001b[38;5;124mf\u001b[39m\u001b[38;5;124m\"\u001b[39m\u001b[38;5;124mIPython won\u001b[39m\u001b[38;5;124m'\u001b[39m\u001b[38;5;124mt let you open fd=\u001b[39m\u001b[38;5;132;01m{\u001b[39;00mfile\u001b[38;5;132;01m}\u001b[39;00m\u001b[38;5;124m by default \u001b[39m\u001b[38;5;124m\"\u001b[39m\n\u001b[1;32m    278\u001b[0m         \u001b[38;5;124m\"\u001b[39m\u001b[38;5;124mas it is likely to crash IPython. If you know what you are doing, \u001b[39m\u001b[38;5;124m\"\u001b[39m\n\u001b[1;32m    279\u001b[0m         \u001b[38;5;124m\"\u001b[39m\u001b[38;5;124myou can use builtins\u001b[39m\u001b[38;5;124m'\u001b[39m\u001b[38;5;124m open.\u001b[39m\u001b[38;5;124m\"\u001b[39m\n\u001b[1;32m    280\u001b[0m     )\n\u001b[0;32m--> 282\u001b[0m \u001b[38;5;28;01mreturn\u001b[39;00m \u001b[43mio_open\u001b[49m\u001b[43m(\u001b[49m\u001b[43mfile\u001b[49m\u001b[43m,\u001b[49m\u001b[43m \u001b[49m\u001b[38;5;241;43m*\u001b[39;49m\u001b[43margs\u001b[49m\u001b[43m,\u001b[49m\u001b[43m \u001b[49m\u001b[38;5;241;43m*\u001b[39;49m\u001b[38;5;241;43m*\u001b[39;49m\u001b[43mkwargs\u001b[49m\u001b[43m)\u001b[49m\n",
      "\u001b[0;31mFileNotFoundError\u001b[0m: [Errno 2] No such file or directory: '../../styles/custom.css'"
     ]
    }
   ],
   "source": [
    "# css style\n",
    "from IPython.core.display import HTML\n",
    "def css_styling():\n",
    "    styles = open(\"../../styles/custom.css\", \"r\").read()\n",
    "    return HTML(styles)\n",
    "css_styling()"
   ]
  },
  {
   "cell_type": "code",
   "execution_count": null,
   "id": "67ac1b4c",
   "metadata": {},
   "outputs": [],
   "source": []
  }
 ],
 "metadata": {
  "hide_input": false,
  "kernelspec": {
   "display_name": "Python 3 (ipykernel)",
   "language": "python",
   "name": "python3"
  },
  "language_info": {
   "codemirror_mode": {
    "name": "ipython",
    "version": 3
   },
   "file_extension": ".py",
   "mimetype": "text/x-python",
   "name": "python",
   "nbconvert_exporter": "python",
   "pygments_lexer": "ipython3",
   "version": "3.10.6"
  }
 },
 "nbformat": 4,
 "nbformat_minor": 5
}
