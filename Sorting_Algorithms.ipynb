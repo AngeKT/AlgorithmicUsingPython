{
 "cells": [
  {
   "cell_type": "code",
   "execution_count": 1,
   "id": "599d4661",
   "metadata": {},
   "outputs": [
    {
     "name": "stdout",
     "output_type": "stream",
     "text": [
      "[] [2, 4, 5, 7]\n"
     ]
    }
   ],
   "source": [
    "def sort_function (unsorted):\n",
    "    sorted=[]\n",
    "    n=len(unsorted)\n",
    "    for j in range(n):\n",
    "        for i in range(len(unsorted)):\n",
    "            min=unsorted[0]\n",
    "            if unsorted[i]<min:\n",
    "                min=unsorted[i]\n",
    "        unsorted.remove(min)\n",
    "        sorted.append(min)\n",
    "    print(unsorted, sorted)\n",
    "    \n",
    "sort_function([7, 5, 4, 2])\n",
    "\n"
   ]
  },
  {
   "cell_type": "code",
   "execution_count": 2,
   "id": "f4ccf5ec",
   "metadata": {},
   "outputs": [
    {
     "name": "stdout",
     "output_type": "stream",
     "text": [
      "[2, 4, 5, 7]\n"
     ]
    }
   ],
   "source": [
    "def selection (array):\n",
    "    n=len(array)\n",
    "    for i in range(n):\n",
    "        for j in range(i+1,n):\n",
    "            if array[j]<array[i]:\n",
    "                array[j],array[i]=array[i],array[j]\n",
    "    print(array)\n",
    "                \n",
    "selection([7, 5, 4, 2])"
   ]
  },
  {
   "cell_type": "code",
   "execution_count": 7,
   "id": "4e73c7da",
   "metadata": {},
   "outputs": [
    {
     "name": "stdout",
     "output_type": "stream",
     "text": [
      "[2, 4, 5, 7]\n"
     ]
    }
   ],
   "source": [
    "def insertion (array):\n",
    "    n=len(array)\n",
    "    for i in range(1,n):\n",
    "        j=i\n",
    "        while j!=0:\n",
    "            j-=1\n",
    "            if array[i]<array[j]:\n",
    "                array[j],array[i]=array[i],array[j]\n",
    "                i,j=j,i\n",
    "            elif array[i]>array[j]:\n",
    "                break\n",
    "    print(array)\n",
    "    \n",
    "insertion([7, 4, 5, 2])"
   ]
  },
  {
   "cell_type": "code",
   "execution_count": 8,
   "id": "f40caa0d",
   "metadata": {},
   "outputs": [
    {
     "ename": "UnboundLocalError",
     "evalue": "local variable 'high' referenced before assignment",
     "output_type": "error",
     "traceback": [
      "\u001b[0;31m---------------------------------------------------------------------------\u001b[0m",
      "\u001b[0;31mUnboundLocalError\u001b[0m                         Traceback (most recent call last)",
      "Cell \u001b[0;32mIn [8], line 33\u001b[0m\n\u001b[1;32m     30\u001b[0m         k\u001b[38;5;241m+\u001b[39m\u001b[38;5;241m=\u001b[39m\u001b[38;5;241m1\u001b[39m\n\u001b[1;32m     31\u001b[0m     \u001b[38;5;28mprint\u001b[39m(array)\n\u001b[0;32m---> 33\u001b[0m \u001b[43mmerge\u001b[49m\u001b[43m(\u001b[49m\u001b[43m[\u001b[49m\u001b[38;5;241;43m7\u001b[39;49m\u001b[43m,\u001b[49m\u001b[43m \u001b[49m\u001b[38;5;241;43m5\u001b[39;49m\u001b[43m,\u001b[49m\u001b[43m \u001b[49m\u001b[38;5;241;43m2\u001b[39;49m\u001b[43m,\u001b[49m\u001b[43m \u001b[49m\u001b[38;5;241;43m4\u001b[39;49m\u001b[43m,\u001b[49m\u001b[43m \u001b[49m\u001b[38;5;241;43m1\u001b[39;49m\u001b[43m,\u001b[49m\u001b[43m \u001b[49m\u001b[38;5;241;43m6\u001b[39;49m\u001b[43m,\u001b[49m\u001b[43m \u001b[49m\u001b[38;5;241;43m3\u001b[39;49m\u001b[43m,\u001b[49m\u001b[43m \u001b[49m\u001b[38;5;241;43m0\u001b[39;49m\u001b[43m]\u001b[49m\u001b[43m)\u001b[49m\n",
      "Cell \u001b[0;32mIn [8], line 9\u001b[0m, in \u001b[0;36mmerge\u001b[0;34m(array)\u001b[0m\n\u001b[1;32m      7\u001b[0m \u001b[38;5;28;01mdef\u001b[39;00m \u001b[38;5;21mmerge\u001b[39m (array):\n\u001b[0;32m----> 9\u001b[0m     \u001b[43msublists\u001b[49m\u001b[43m(\u001b[49m\u001b[43marray\u001b[49m\u001b[43m)\u001b[49m\n\u001b[1;32m     10\u001b[0m     i,j,k\u001b[38;5;241m=\u001b[39m\u001b[38;5;241m0\u001b[39m\n\u001b[1;32m     12\u001b[0m     \u001b[38;5;28;01mwhile\u001b[39;00m i\u001b[38;5;241m<\u001b[39m\u001b[38;5;28mlen\u001b[39m(high) \u001b[38;5;129;01mand\u001b[39;00m j\u001b[38;5;241m<\u001b[39m\u001b[38;5;28mlen\u001b[39m(low):\n",
      "Cell \u001b[0;32mIn [8], line 6\u001b[0m, in \u001b[0;36msublists\u001b[0;34m(liste)\u001b[0m\n\u001b[1;32m      4\u001b[0m     high\u001b[38;5;241m=\u001b[39mliste[:n\u001b[38;5;241m/\u001b[39m\u001b[38;5;241m/\u001b[39m\u001b[38;5;241m2\u001b[39m]\n\u001b[1;32m      5\u001b[0m     low\u001b[38;5;241m=\u001b[39mliste[n\u001b[38;5;241m/\u001b[39m\u001b[38;5;241m/\u001b[39m\u001b[38;5;241m2\u001b[39m:]\n\u001b[0;32m----> 6\u001b[0m \u001b[38;5;28;01mreturn\u001b[39;00m(\u001b[43mmerge\u001b[49m\u001b[43m(\u001b[49m\u001b[43mhigh\u001b[49m\u001b[43m)\u001b[49m, merge(low))\n",
      "Cell \u001b[0;32mIn [8], line 9\u001b[0m, in \u001b[0;36mmerge\u001b[0;34m(array)\u001b[0m\n\u001b[1;32m      7\u001b[0m \u001b[38;5;28;01mdef\u001b[39;00m \u001b[38;5;21mmerge\u001b[39m (array):\n\u001b[0;32m----> 9\u001b[0m     \u001b[43msublists\u001b[49m\u001b[43m(\u001b[49m\u001b[43marray\u001b[49m\u001b[43m)\u001b[49m\n\u001b[1;32m     10\u001b[0m     i,j,k\u001b[38;5;241m=\u001b[39m\u001b[38;5;241m0\u001b[39m\n\u001b[1;32m     12\u001b[0m     \u001b[38;5;28;01mwhile\u001b[39;00m i\u001b[38;5;241m<\u001b[39m\u001b[38;5;28mlen\u001b[39m(high) \u001b[38;5;129;01mand\u001b[39;00m j\u001b[38;5;241m<\u001b[39m\u001b[38;5;28mlen\u001b[39m(low):\n",
      "Cell \u001b[0;32mIn [8], line 6\u001b[0m, in \u001b[0;36msublists\u001b[0;34m(liste)\u001b[0m\n\u001b[1;32m      4\u001b[0m     high\u001b[38;5;241m=\u001b[39mliste[:n\u001b[38;5;241m/\u001b[39m\u001b[38;5;241m/\u001b[39m\u001b[38;5;241m2\u001b[39m]\n\u001b[1;32m      5\u001b[0m     low\u001b[38;5;241m=\u001b[39mliste[n\u001b[38;5;241m/\u001b[39m\u001b[38;5;241m/\u001b[39m\u001b[38;5;241m2\u001b[39m:]\n\u001b[0;32m----> 6\u001b[0m \u001b[38;5;28;01mreturn\u001b[39;00m(\u001b[43mmerge\u001b[49m\u001b[43m(\u001b[49m\u001b[43mhigh\u001b[49m\u001b[43m)\u001b[49m, merge(low))\n",
      "    \u001b[0;31m[... skipping similar frames: merge at line 9 (1 times), sublists at line 6 (1 times)]\u001b[0m\n",
      "Cell \u001b[0;32mIn [8], line 9\u001b[0m, in \u001b[0;36mmerge\u001b[0;34m(array)\u001b[0m\n\u001b[1;32m      7\u001b[0m \u001b[38;5;28;01mdef\u001b[39;00m \u001b[38;5;21mmerge\u001b[39m (array):\n\u001b[0;32m----> 9\u001b[0m     \u001b[43msublists\u001b[49m\u001b[43m(\u001b[49m\u001b[43marray\u001b[49m\u001b[43m)\u001b[49m\n\u001b[1;32m     10\u001b[0m     i,j,k\u001b[38;5;241m=\u001b[39m\u001b[38;5;241m0\u001b[39m\n\u001b[1;32m     12\u001b[0m     \u001b[38;5;28;01mwhile\u001b[39;00m i\u001b[38;5;241m<\u001b[39m\u001b[38;5;28mlen\u001b[39m(high) \u001b[38;5;129;01mand\u001b[39;00m j\u001b[38;5;241m<\u001b[39m\u001b[38;5;28mlen\u001b[39m(low):\n",
      "Cell \u001b[0;32mIn [8], line 6\u001b[0m, in \u001b[0;36msublists\u001b[0;34m(liste)\u001b[0m\n\u001b[1;32m      4\u001b[0m     high\u001b[38;5;241m=\u001b[39mliste[:n\u001b[38;5;241m/\u001b[39m\u001b[38;5;241m/\u001b[39m\u001b[38;5;241m2\u001b[39m]\n\u001b[1;32m      5\u001b[0m     low\u001b[38;5;241m=\u001b[39mliste[n\u001b[38;5;241m/\u001b[39m\u001b[38;5;241m/\u001b[39m\u001b[38;5;241m2\u001b[39m:]\n\u001b[0;32m----> 6\u001b[0m \u001b[38;5;28;01mreturn\u001b[39;00m(merge(\u001b[43mhigh\u001b[49m), merge(low))\n",
      "\u001b[0;31mUnboundLocalError\u001b[0m: local variable 'high' referenced before assignment"
     ]
    }
   ],
   "source": [
    "def sublists(liste):\n",
    "        n=len(liste)\n",
    "        if n>1:\n",
    "            high=liste[:n//2]\n",
    "            low=liste[n//2:]\n",
    "        return(merge(high), merge(low))\n",
    "    sublists(array)\n",
    "    i,j,k=0\n",
    "    \n",
    "    while i<len(high) and j<len(low):\n",
    "        if high[i]<low[j]:\n",
    "            array[k]=high[i]\n",
    "            i+=1\n",
    "            k+=1\n",
    "        else:\n",
    "            array[k]=low[j]\n",
    "            j+=1\n",
    "            k+=1\n",
    "    \n",
    "    while i<len(high):\n",
    "        array[k]=high[i]\n",
    "        i+=1\n",
    "        k+=1\n",
    "        \n",
    "    while j<len(low):\n",
    "        array[k]=low[j]\n",
    "        j+=1\n",
    "        k+=1\n",
    "    print(array)\n",
    "    \n",
    "merge([7, 5, 2, 4, 1, 6, 3, 0])\n",
    "        "
   ]
  },
  {
   "cell_type": "code",
   "execution_count": null,
   "id": "1d0c8b97",
   "metadata": {},
   "outputs": [],
   "source": []
  },
  {
   "cell_type": "code",
   "execution_count": null,
   "id": "0b77af2e",
   "metadata": {},
   "outputs": [],
   "source": []
  }
 ],
 "metadata": {
  "kernelspec": {
   "display_name": "Python 3 (ipykernel)",
   "language": "python",
   "name": "python3"
  },
  "language_info": {
   "codemirror_mode": {
    "name": "ipython",
    "version": 3
   },
   "file_extension": ".py",
   "mimetype": "text/x-python",
   "name": "python",
   "nbconvert_exporter": "python",
   "pygments_lexer": "ipython3",
   "version": "3.10.6"
  }
 },
 "nbformat": 4,
 "nbformat_minor": 5
}
