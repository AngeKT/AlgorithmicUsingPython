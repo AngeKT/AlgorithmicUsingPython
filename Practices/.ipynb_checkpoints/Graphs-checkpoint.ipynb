{
 "cells": [
  {
   "cell_type": "markdown",
   "metadata": {},
   "source": [
    "## Exercise 1: Write a function that checks whether a given graph is connected or not.\n",
    "\n",
    "A graph $G=(S,A)$ is said to be connected if for any pair of vertices $(u,v)$ there is a path connecting $u$ and $v$. \n",
    "- Example 1: Oriented graph\n",
    "\n",
    "![orientedgraph](data/oriented-graph.png)\n",
    "\n",
    "    - The graph above is connected because we can find a path between each pair of vertices\n",
    "    - The pairs of vertices are: $(1,2)$, $(1,3)$, $(1,4)$, $(1,5)$, $(2,3)$, $(2,4)$, $(2,5)$, $(3,2)$, $(3,4)$, $(3,5)$, $(4,5)$.\n",
    "    \n",
    "- Example 2: Unoriented graph\n",
    "\n",
    "![unorientedgraph](data/unoriented-graph.png)\n",
    "\n",
    "    - The graph above is not connected because we cannot find a path between the vertices (5,6) and the other vertices. \n",
    "    - This graph is composed of two connected components."
   ]
  },
  {
   "cell_type": "code",
   "execution_count": 47,
   "metadata": {},
   "outputs": [
    {
     "name": "stdout",
     "output_type": "stream",
     "text": [
      "Not connected\n"
     ]
    }
   ],
   "source": [
    "def check_graph(graph):\n",
    "    keys=list(graph.keys())\n",
    "    def liens(node):\n",
    "        lst=[node]\n",
    "        if graph[node]!=[]:\n",
    "            for suivant in graph[node]:\n",
    "                if suivant!=node:\n",
    "                    lst.append(suivant)\n",
    "                    return liens(suivant)\n",
    "        else:\n",
    "            if lst==keys:\n",
    "                return 1\n",
    "            else:\n",
    "                return 0\n",
    "                \n",
    "    for node in keys:\n",
    "        if liens(node)==0:\n",
    "            return print(\"Not connected\")\n",
    "        else:\n",
    "            return print(\"Connected\")\n",
    "            \n",
    "                \n",
    "                \n",
    "            \n",
    "        \n",
    "        \n",
    "            \n",
    "            \n",
    "graph=\n",
    "check_graph(graph)"
   ]
  },
  {
   "cell_type": "markdown",
   "metadata": {},
   "source": [
    "## Exercise 2: Given a binary tree, find the sum of all the leaves.\n",
    "\n",
    "![Tree1](data/tree1.png)\n",
    "\n",
    "- Example: \n",
    "\n",
    "```python\n",
    ">>> a = [40, [14, [5, [3, [], []], [2, [], []] ], [4, [], [] ]], [6, [1, [], []], [5, [], []]]]\n",
    ">>> print(somme_feuilles(a3))\n",
    "```"
   ]
  },
  {
   "cell_type": "code",
   "execution_count": 56,
   "metadata": {},
   "outputs": [
    {
     "ename": "TypeError",
     "evalue": "'int' object is not iterable",
     "output_type": "error",
     "traceback": [
      "\u001b[0;31m---------------------------------------------------------------------------\u001b[0m",
      "\u001b[0;31mTypeError\u001b[0m                                 Traceback (most recent call last)",
      "Cell \u001b[0;32mIn [56], line 15\u001b[0m\n\u001b[1;32m     11\u001b[0m                 \u001b[38;5;28msum\u001b[39m\u001b[38;5;241m+\u001b[39m\u001b[38;5;241m=\u001b[39ma[i][j]\n\u001b[1;32m     12\u001b[0m     \u001b[38;5;28;01mreturn\u001b[39;00m \u001b[38;5;28msum\u001b[39m\n\u001b[0;32m---> 15\u001b[0m \u001b[38;5;28mprint\u001b[39m(\u001b[43msomme_feuilles\u001b[49m\u001b[43m(\u001b[49m\u001b[43ma\u001b[49m\u001b[43m)\u001b[49m)   \n",
      "Cell \u001b[0;32mIn [56], line 9\u001b[0m, in \u001b[0;36msomme_feuilles\u001b[0;34m(a)\u001b[0m\n\u001b[1;32m      7\u001b[0m niveau\u001b[38;5;241m=\u001b[39m\u001b[38;5;28mlen\u001b[39m(a)\n\u001b[1;32m      8\u001b[0m \u001b[38;5;28;01mfor\u001b[39;00m i \u001b[38;5;129;01min\u001b[39;00m \u001b[38;5;28mrange\u001b[39m(\u001b[38;5;28mlen\u001b[39m(a)):\n\u001b[0;32m----> 9\u001b[0m     \u001b[38;5;28;01mfor\u001b[39;00m j \u001b[38;5;129;01min\u001b[39;00m a[i]:\n\u001b[1;32m     10\u001b[0m         \u001b[38;5;28;01mif\u001b[39;00m \u001b[38;5;28mtype\u001b[39m(j)\u001b[38;5;241m==\u001b[39m\u001b[38;5;28mint\u001b[39m:\n\u001b[1;32m     11\u001b[0m             \u001b[38;5;28msum\u001b[39m\u001b[38;5;241m+\u001b[39m\u001b[38;5;241m=\u001b[39ma[i][j]\n",
      "\u001b[0;31mTypeError\u001b[0m: 'int' object is not iterable"
     ]
    }
   ],
   "source": [
    "a = [40, [14, [5, [3, [], []], [2, [], []] ], [4, [], [] ]], [6, [1, [], []], [5, [], []]]]\n",
    "\n",
    "\n",
    "\n",
    "def somme_feuilles(a):\n",
    "    sum=a[0]\n",
    "    niveau=len(a)\n",
    "    for i in range(len(a)):\n",
    "        for j in a[i]:\n",
    "            if type(j)==int:\n",
    "                sum+=a[i][j]\n",
    "    return sum\n",
    "\n",
    "\n",
    "print(somme_feuilles(a))   "
   ]
  },
  {
   "cell_type": "markdown",
   "metadata": {},
   "source": [
    "## Exercise 3: Given a binary tree, check whether all leaves are at the same level or not.\n",
    "\n",
    "![Tree2](data/tree2.png)\n",
    "\n",
    "- Expected output:\n",
    "\n",
    "```python\n",
    ">>> same_level(T1) \n",
    "False\n",
    ">>> same_level(T2)\n",
    "True\n",
    "```"
   ]
  },
  {
   "cell_type": "code",
   "execution_count": 60,
   "metadata": {},
   "outputs": [
    {
     "ename": "KeyError",
     "evalue": "'5'",
     "output_type": "error",
     "traceback": [
      "\u001b[0;31m---------------------------------------------------------------------------\u001b[0m",
      "\u001b[0;31mKeyError\u001b[0m                                  Traceback (most recent call last)",
      "Cell \u001b[0;32mIn [60], line 19\u001b[0m\n\u001b[1;32m     13\u001b[0m         \u001b[38;5;28;01mreturn\u001b[39;00m \u001b[38;5;28mprint\u001b[39m(\u001b[38;5;124m\"\u001b[39m\u001b[38;5;124mFalse\u001b[39m\u001b[38;5;124m\"\u001b[39m)\n\u001b[1;32m     15\u001b[0m T1\u001b[38;5;241m=\u001b[39m{\u001b[38;5;124m'\u001b[39m\u001b[38;5;124m40\u001b[39m\u001b[38;5;124m'\u001b[39m: [\u001b[38;5;124m'\u001b[39m\u001b[38;5;124m14\u001b[39m\u001b[38;5;124m'\u001b[39m, \u001b[38;5;124m'\u001b[39m\u001b[38;5;124m6\u001b[39m\u001b[38;5;124m'\u001b[39m],\n\u001b[1;32m     16\u001b[0m     \u001b[38;5;124m'\u001b[39m\u001b[38;5;124m14\u001b[39m\u001b[38;5;124m'\u001b[39m: [\u001b[38;5;124m'\u001b[39m\u001b[38;5;124m5\u001b[39m\u001b[38;5;124m'\u001b[39m, \u001b[38;5;124m'\u001b[39m\u001b[38;5;124m4\u001b[39m\u001b[38;5;124m'\u001b[39m],\n\u001b[1;32m     17\u001b[0m     \u001b[38;5;124m'\u001b[39m\u001b[38;5;124m6\u001b[39m\u001b[38;5;124m'\u001b[39m: [\u001b[38;5;124m'\u001b[39m\u001b[38;5;124m1\u001b[39m\u001b[38;5;124m'\u001b[39m, \u001b[38;5;124m'\u001b[39m\u001b[38;5;124m5\u001b[39m\u001b[38;5;124m'\u001b[39m]\n\u001b[1;32m     18\u001b[0m }\n\u001b[0;32m---> 19\u001b[0m \u001b[43msame_level\u001b[49m\u001b[43m(\u001b[49m\u001b[43mT1\u001b[49m\u001b[43m)\u001b[49m\n",
      "Cell \u001b[0;32mIn [60], line 10\u001b[0m, in \u001b[0;36msame_level\u001b[0;34m(graph)\u001b[0m\n\u001b[1;32m      7\u001b[0m             count\u001b[38;5;241m+\u001b[39m\u001b[38;5;241m=\u001b[39m\u001b[38;5;241m1\u001b[39m\n\u001b[1;32m      8\u001b[0m             \u001b[38;5;28;01mreturn\u001b[39;00m neighbors(i)\n\u001b[0;32m---> 10\u001b[0m \u001b[38;5;28;01mif\u001b[39;00m \u001b[43mneighbors\u001b[49m\u001b[43m(\u001b[49m\u001b[43mkeys\u001b[49m\u001b[43m[\u001b[49m\u001b[38;5;241;43m1\u001b[39;49m\u001b[43m]\u001b[49m\u001b[43m)\u001b[49m\u001b[38;5;241m==\u001b[39mneighbors(keys[\u001b[38;5;241m2\u001b[39m]):\n\u001b[1;32m     11\u001b[0m     \u001b[38;5;28;01mreturn\u001b[39;00m \u001b[38;5;28mprint\u001b[39m(\u001b[38;5;124m\"\u001b[39m\u001b[38;5;124mTrue\u001b[39m\u001b[38;5;124m\"\u001b[39m)\n\u001b[1;32m     12\u001b[0m \u001b[38;5;28;01melse\u001b[39;00m:\n",
      "Cell \u001b[0;32mIn [60], line 8\u001b[0m, in \u001b[0;36msame_level.<locals>.neighbors\u001b[0;34m(node)\u001b[0m\n\u001b[1;32m      6\u001b[0m \u001b[38;5;28;01mfor\u001b[39;00m i \u001b[38;5;129;01min\u001b[39;00m graph[node]:\n\u001b[1;32m      7\u001b[0m     count\u001b[38;5;241m+\u001b[39m\u001b[38;5;241m=\u001b[39m\u001b[38;5;241m1\u001b[39m\n\u001b[0;32m----> 8\u001b[0m     \u001b[38;5;28;01mreturn\u001b[39;00m \u001b[43mneighbors\u001b[49m\u001b[43m(\u001b[49m\u001b[43mi\u001b[49m\u001b[43m)\u001b[49m\n",
      "Cell \u001b[0;32mIn [60], line 5\u001b[0m, in \u001b[0;36msame_level.<locals>.neighbors\u001b[0;34m(node)\u001b[0m\n\u001b[1;32m      3\u001b[0m \u001b[38;5;28;01mdef\u001b[39;00m \u001b[38;5;21mneighbors\u001b[39m(node):\n\u001b[1;32m      4\u001b[0m     count\u001b[38;5;241m=\u001b[39m\u001b[38;5;241m0\u001b[39m\n\u001b[0;32m----> 5\u001b[0m     \u001b[38;5;28;01mwhile\u001b[39;00m \u001b[43mgraph\u001b[49m\u001b[43m[\u001b[49m\u001b[43mnode\u001b[49m\u001b[43m]\u001b[49m\u001b[38;5;241m!=\u001b[39m\u001b[38;5;241m0\u001b[39m:\n\u001b[1;32m      6\u001b[0m         \u001b[38;5;28;01mfor\u001b[39;00m i \u001b[38;5;129;01min\u001b[39;00m graph[node]:\n\u001b[1;32m      7\u001b[0m             count\u001b[38;5;241m+\u001b[39m\u001b[38;5;241m=\u001b[39m\u001b[38;5;241m1\u001b[39m\n",
      "\u001b[0;31mKeyError\u001b[0m: '5'"
     ]
    }
   ],
   "source": [
    "def same_level(graph):\n",
    "    keys=list(graph.keys())\n",
    "    def neighbors(node):\n",
    "        count=0\n",
    "        while graph[node]!=0:\n",
    "            for i in graph[node]:\n",
    "                count+=1\n",
    "                return neighbors(i)\n",
    "            \n",
    "    if neighbors(keys[1])==neighbors(keys[2]):\n",
    "        return print(\"True\")\n",
    "    else:\n",
    "        return print(\"False\")\n",
    "    \n",
    "T1={'40': ['14', '6'],\n",
    "    '14': ['5', '4'],\n",
    "    '6': ['1', '5']\n",
    "}\n",
    "same_level(T1)"
   ]
  },
  {
   "cell_type": "code",
   "execution_count": null,
   "metadata": {},
   "outputs": [],
   "source": []
  }
 ],
 "metadata": {
  "kernelspec": {
   "display_name": "Python 3 (ipykernel)",
   "language": "python",
   "name": "python3"
  },
  "language_info": {
   "codemirror_mode": {
    "name": "ipython",
    "version": 3
   },
   "file_extension": ".py",
   "mimetype": "text/x-python",
   "name": "python",
   "nbconvert_exporter": "python",
   "pygments_lexer": "ipython3",
   "version": "3.10.6"
  }
 },
 "nbformat": 4,
 "nbformat_minor": 4
}
